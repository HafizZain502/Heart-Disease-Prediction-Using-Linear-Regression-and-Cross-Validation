{
 "cells": [
  {
   "cell_type": "markdown",
   "id": "ef84b899",
   "metadata": {},
   "source": [
    "# CROSS VALIDATION\n",
    "## by Hafiz Zain Waheed 2862\n",
    "--------------------------\n",
    "\n"
   ]
  },
  {
   "cell_type": "markdown",
   "id": "e44dc1e6",
   "metadata": {},
   "source": [
    "## STEP 1: LOAD THE DATA. "
   ]
  },
  {
   "cell_type": "code",
   "execution_count": 45,
   "id": "c845c9e7",
   "metadata": {},
   "outputs": [],
   "source": [
    "# Import necessary libraries\n",
    "import pandas as pd\n",
    "import numpy as np\n",
    "from sklearn.model_selection import train_test_split\n",
    "from sklearn.linear_model import LinearRegression\n",
    "from sklearn.metrics import mean_squared_error, mean_absolute_error\n",
    "from sklearn.model_selection import cross_val_score\n",
    "from math import sqrt"
   ]
  },
  {
   "cell_type": "code",
   "execution_count": 46,
   "id": "9c5aa90d",
   "metadata": {},
   "outputs": [
    {
     "name": "stdout",
     "output_type": "stream",
     "text": [
      "   Age Sex ChestPainType  RestingBP  Cholesterol  FastingBS RestingECG  MaxHR  \\\n",
      "0   40   M           ATA        140          289          0     Normal    172   \n",
      "1   49   F           NAP        160          180          0     Normal    156   \n",
      "2   37   M           ATA        130          283          0         ST     98   \n",
      "3   48   F           ASY        138          214          0     Normal    108   \n",
      "4   54   M           NAP        150          195          0     Normal    122   \n",
      "\n",
      "  ExerciseAngina  Oldpeak ST_Slope  HeartDisease  \n",
      "0              N      0.0       Up             0  \n",
      "1              N      1.0     Flat             1  \n",
      "2              N      0.0       Up             0  \n",
      "3              Y      1.5     Flat             1  \n",
      "4              N      0.0       Up             0  \n"
     ]
    }
   ],
   "source": [
    "# Load the dataset\n",
    "df = pd.read_csv('heart.csv')\n",
    "\n",
    "# Display the first few rows to inspect the data\n",
    "print(df.head())\n"
   ]
  },
  {
   "cell_type": "markdown",
   "id": "28085da0",
   "metadata": {},
   "source": [
    "## Step 2: Find and filling the missing values"
   ]
  },
  {
   "cell_type": "code",
   "execution_count": 48,
   "id": "083effe9",
   "metadata": {},
   "outputs": [
    {
     "name": "stderr",
     "output_type": "stream",
     "text": [
      "/var/folders/59/z72klgv55l76dflmk1zws5wm0000gp/T/ipykernel_28141/2454948838.py:5: FutureWarning: Dropping of nuisance columns in DataFrame reductions (with 'numeric_only=None') is deprecated; in a future version this will raise TypeError.  Select only valid columns before calling the reduction.\n",
      "  df.fillna(df.mean(), inplace=True)\n"
     ]
    }
   ],
   "source": [
    "\n",
    "# Handling Missing Values\n",
    "# Check for any missing values in the dataset\n",
    "missing_values = df.isnull().sum()\n",
    "# If there are any missing values, fill them with the mean of the column\n",
    "df.fillna(df.mean(), inplace=True)"
   ]
  },
  {
   "cell_type": "markdown",
   "id": "a8a3b5ec",
   "metadata": {},
   "source": [
    "## Step 3: Split the dataset in training and testing data set. "
   ]
  },
  {
   "cell_type": "code",
   "execution_count": 49,
   "id": "19523915",
   "metadata": {},
   "outputs": [],
   "source": [
    "# Data Splitting\n",
    "# Split the data into features and target variable\n",
    "X = df.drop('HeartDisease', axis=1)  # Features\n",
    "y = df['HeartDisease']                # Target variable"
   ]
  },
  {
   "cell_type": "code",
   "execution_count": 50,
   "id": "7b6932fe",
   "metadata": {},
   "outputs": [],
   "source": [
    "# Convert categorical variables to dummy variables\n",
    "X = pd.get_dummies(X)\n"
   ]
  },
  {
   "cell_type": "code",
   "execution_count": 51,
   "id": "377469f2",
   "metadata": {},
   "outputs": [],
   "source": [
    "# Split the dataset into training (70%) and testing (30%) sets\n",
    "X_train, X_test, y_train, y_test = train_test_split(X, y, test_size=0.3, random_state=42)\n"
   ]
  },
  {
   "cell_type": "markdown",
   "id": "b8670e75",
   "metadata": {},
   "source": [
    "This code uses train_test_split from sklearn.model_selection to divide the dataset into a training set (80%) and a testing set (20%). The random_state parameter is used to seed the random number generator, which allows for reproducibility of the train-test split."
   ]
  },
  {
   "cell_type": "markdown",
   "id": "916043fe",
   "metadata": {},
   "source": [
    "## Step 4: Linear Regression Testing"
   ]
  },
  {
   "cell_type": "code",
   "execution_count": 52,
   "id": "b9961939",
   "metadata": {},
   "outputs": [],
   "source": [
    "# Linear Regression Testing\n",
    "# Initialize the Linear Regression model\n",
    "lr = LinearRegression()\n",
    "# Fit the model on the training data\n",
    "lr.fit(X_train, y_train)\n",
    "# Predict the target variable for the testing set\n",
    "y_pred = lr.predict(X_test)"
   ]
  },
  {
   "cell_type": "code",
   "execution_count": 53,
   "id": "524b74dd",
   "metadata": {},
   "outputs": [],
   "source": [
    "# Evaluation Metrics on Training Data\n",
    "# Calculate MSE, MAE, and RMSE on the training dataset\n",
    "mse = mean_squared_error(y_train, lr.predict(X_train))\n",
    "mae = mean_absolute_error(y_train, lr.predict(X_train))\n",
    "rmse = sqrt(mse)"
   ]
  },
  {
   "cell_type": "code",
   "execution_count": 64,
   "id": "0088528b",
   "metadata": {},
   "outputs": [
    {
     "name": "stdout",
     "output_type": "stream",
     "text": [
      "0.10769341198166363\n",
      "0.23828437882444234\n",
      "0.3281667441738477\n"
     ]
    }
   ],
   "source": [
    "print(mse)\n",
    "print(mae)\n",
    "print(rmse)"
   ]
  },
  {
   "cell_type": "markdown",
   "id": "79745ae6",
   "metadata": {},
   "source": [
    "## Step 5: Cross Validation with varying K Values"
   ]
  },
  {
   "cell_type": "code",
   "execution_count": 58,
   "id": "eb4ec647",
   "metadata": {},
   "outputs": [],
   "source": [
    "# Cross-Validation with Varying K values\n",
    "# Perform cross-validation with different values of K\n",
    "cv_scores = cross_val_score(lr, X_train, y_train, cv=5)"
   ]
  },
  {
   "cell_type": "code",
   "execution_count": 59,
   "id": "60a9923f",
   "metadata": {},
   "outputs": [],
   "source": [
    "# Re-evaluation Metrics on Training Data\n",
    "# Reassess the performance on the training dataset after cross-validation\n",
    "mse_cv = -cross_val_score(lr, X_train, y_train, scoring='neg_mean_squared_error', cv=5).mean()\n",
    "mae_cv = -cross_val_score(lr, X_train, y_train, scoring='neg_mean_absolute_error', cv=5).mean()\n",
    "rmse_cv = sqrt(mse_cv)"
   ]
  },
  {
   "cell_type": "code",
   "execution_count": 61,
   "id": "7fa5f79e",
   "metadata": {},
   "outputs": [
    {
     "name": "stdout",
     "output_type": "stream",
     "text": [
      "0.11491806533741648\n",
      "0.2470438758241992\n",
      "0.33899567156147653\n"
     ]
    }
   ],
   "source": [
    "print(mse_cv)\n",
    "print(mae_cv)\n",
    "print(rmse_cv)"
   ]
  },
  {
   "cell_type": "markdown",
   "id": "d323dcf5",
   "metadata": {},
   "source": [
    "## Step 6: Compare results before and after CV"
   ]
  },
  {
   "cell_type": "code",
   "execution_count": 63,
   "id": "af224eb0",
   "metadata": {},
   "outputs": [
    {
     "name": "stdout",
     "output_type": "stream",
     "text": [
      "MSE (without CV): 0.10769341198166363 \n",
      "MSE (with CV): 0.11491806533741648\n",
      "MAE (without CV): 0.23828437882444234 \n",
      "MAE (with CV): 0.2470438758241992\n",
      "RMSE (without CV): 0.3281667441738477 \n",
      "RMSE (with CV): 0.33899567156147653\n"
     ]
    }
   ],
   "source": [
    "print('MSE (without CV):', mse, '\\nMSE (with CV):', mse_cv)\n",
    "print('MAE (without CV):', mae, '\\nMAE (with CV):', mae_cv)\n",
    "print('RMSE (without CV):', rmse, '\\nRMSE (with CV):', rmse_cv)"
   ]
  },
  {
   "cell_type": "markdown",
   "id": "90de2a4e",
   "metadata": {},
   "source": [
    "From the results, we observe that the error metrics are slightly higher when cross-validation (CV) is used compared to the initial training set without CV. Specifically, the MSE increased from 0.1077 to 0.1149, the MAE from 0.2383 to 0.2470, and the RMSE from 0.3282 to 0.3390 after applying cross-validation.\n",
    "\n",
    "The initial lower error metrics suggest that the model fits the training data well. However, the slight increase in error after cross-validation indicates that when the model is exposed to new subsets of data, it does not perform as well. This is not necessarily a sign of a worse model but rather a more realistic evaluation of the model's performance. Cross-validation helps to mitigate overfitting by ensuring that the model's ability to generalize is tested on multiple subsets of the data.\n",
    "\n",
    "In conclusion, while the non-CV metrics might look better because they are lower, the CV metrics provide a more honest assessment of the model's performance on unseen data. Therefore, the results after cross-validation are considered better in terms of providing a realistic expectation of the model's predictive power.\n",
    "\n",
    "\n",
    "\n",
    "\n",
    "\n"
   ]
  },
  {
   "cell_type": "code",
   "execution_count": null,
   "id": "31402a46",
   "metadata": {},
   "outputs": [],
   "source": []
  }
 ],
 "metadata": {
  "kernelspec": {
   "display_name": "Python 3 (ipykernel)",
   "language": "python",
   "name": "python3"
  },
  "language_info": {
   "codemirror_mode": {
    "name": "ipython",
    "version": 3
   },
   "file_extension": ".py",
   "mimetype": "text/x-python",
   "name": "python",
   "nbconvert_exporter": "python",
   "pygments_lexer": "ipython3",
   "version": "3.9.13"
  }
 },
 "nbformat": 4,
 "nbformat_minor": 5
}
